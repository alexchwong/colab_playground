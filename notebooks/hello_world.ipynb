{
  "nbformat": 4,
  "nbformat_minor": 0,
  "metadata": {
    "colab": {
      "name": "Untitled0.ipynb",
      "provenance": [],
      "authorship_tag": "ABX9TyO4hbt4NA47Uw9Oy/pWXxZG",
      "include_colab_link": true
    },
    "kernelspec": {
      "name": "python3",
      "display_name": "Python 3"
    },
    "language_info": {
      "name": "python"
    }
  },
  "cells": [
    {
      "cell_type": "markdown",
      "metadata": {
        "id": "view-in-github",
        "colab_type": "text"
      },
      "source": [
        "<a href=\"https://colab.research.google.com/github/alexchwong/colab_playground/blob/main/notebooks/hello_world.ipynb\" target=\"_parent\"><img src=\"https://colab.research.google.com/assets/colab-badge.svg\" alt=\"Open In Colab\"/></a>"
      ]
    },
    {
      "cell_type": "markdown",
      "metadata": {
        "id": "d5EN5VqhlWDI"
      },
      "source": [
        "# This is my first python notebook with Google Colab!"
      ]
    },
    {
      "cell_type": "code",
      "metadata": {
        "colab": {
          "base_uri": "https://localhost:8080/"
        },
        "id": "HtX4YYi3k9Ah",
        "outputId": "d0434770-af7d-4ea5-f6e0-7994183fc874"
      },
      "source": [
        "print(\"hello world\")"
      ],
      "execution_count": null,
      "outputs": [
        {
          "output_type": "stream",
          "name": "stdout",
          "text": [
            "hello world\n"
          ]
        }
      ]
    },
    {
      "cell_type": "code",
      "metadata": {
        "id": "f-5N8KLenagv",
        "outputId": "63a528d8-8f14-4062-bbb0-3f95b656cf35",
        "colab": {
          "base_uri": "https://localhost:8080/"
        }
      },
      "source": [
        "1+1"
      ],
      "execution_count": 1,
      "outputs": [
        {
          "output_type": "execute_result",
          "data": {
            "text/plain": [
              "2"
            ]
          },
          "metadata": {},
          "execution_count": 1
        }
      ]
    },
    {
      "cell_type": "code",
      "metadata": {
        "id": "qO3szbPxngad",
        "outputId": "585312ea-1011-4b12-d701-95d17ad3f536",
        "colab": {
          "base_uri": "https://localhost:8080/"
        }
      },
      "source": [
        "3/2"
      ],
      "execution_count": 2,
      "outputs": [
        {
          "output_type": "execute_result",
          "data": {
            "text/plain": [
              "1.5"
            ]
          },
          "metadata": {},
          "execution_count": 2
        }
      ]
    },
    {
      "cell_type": "markdown",
      "metadata": {
        "id": "1ziGU5Finmlu"
      },
      "source": [
        "# Basic keyboard shortcuts in Google Colab\n",
        "\n",
        "### Hotkey menu\n",
        "\n",
        "* \"Ctrl + M, then H\" : Brings up a help menu of hotkeys\n",
        "\n",
        "### New cell\n",
        "\n",
        "* \"Ctrl + M, then B\" : Add new cell below current selection\n",
        "* \"Ctrl + M, then M\" : Convert cell to text\n",
        "* \"Ctrl + M, then Y\" : Convert cell to code\n",
        "\n",
        "### Move cell\n",
        "\n",
        "* \"Ctrl + M, then K\" : Move current cell up\n",
        "* \"Ctrl + M, then J\" : Move current cell down\n",
        "\n",
        "### Execute code\n",
        "\n",
        "* \"Ctrl + Enter\" : Execute code in current cell\n",
        "\n",
        "### Delete cell\n",
        "\n",
        "* \"Ctrl + M, then D\" : Delete cell / selection\n",
        "\n"
      ]
    }
  ]
}