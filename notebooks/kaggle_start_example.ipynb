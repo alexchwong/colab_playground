{
  "nbformat": 4,
  "nbformat_minor": 0,
  "metadata": {
    "colab": {
      "name": "Untitled0.ipynb",
      "provenance": [],
      "include_colab_link": true
    },
    "kernelspec": {
      "name": "python3",
      "display_name": "Python 3"
    },
    "language_info": {
      "name": "python"
    }
  },
  "cells": [
    {
      "cell_type": "markdown",
      "metadata": {
        "id": "view-in-github",
        "colab_type": "text"
      },
      "source": [
        "<a href=\"https://colab.research.google.com/github/alexchwong/colab_playground/blob/main/notebooks/kaggle_start_example.ipynb\" target=\"_parent\"><img src=\"https://colab.research.google.com/assets/colab-badge.svg\" alt=\"Open In Colab\"/></a>"
      ]
    },
    {
      "cell_type": "markdown",
      "metadata": {
        "id": "-J5XDAzSvt8-"
      },
      "source": [
        "# How to download Kaggle data\n",
        "\n",
        "### Mount your google drive\n",
        "\n",
        "It will require your authorization"
      ]
    },
    {
      "cell_type": "code",
      "metadata": {
        "id": "KIiG78k1r1E-",
        "outputId": "86b54100-9a05-4d4c-c6ca-01ecc9144834",
        "colab": {
          "base_uri": "https://localhost:8080/"
        }
      },
      "source": [
        "from google.colab import drive\n",
        "drive.mount(\"/content/gdrive\", force_remount=True)"
      ],
      "execution_count": 1,
      "outputs": [
        {
          "output_type": "stream",
          "name": "stdout",
          "text": [
            "Mounted at /content/gdrive\n"
          ]
        }
      ]
    },
    {
      "cell_type": "code",
      "metadata": {
        "id": "C0TuhZz-r-ng",
        "outputId": "aa59df3b-6c76-470c-9622-8c51e03bfeb5",
        "colab": {
          "base_uri": "https://localhost:8080/"
        }
      },
      "source": [
        "%cd gdrive/MyDrive/"
      ],
      "execution_count": 7,
      "outputs": [
        {
          "output_type": "stream",
          "name": "stdout",
          "text": [
            "/content/gdrive/MyDrive\n"
          ]
        }
      ]
    },
    {
      "cell_type": "markdown",
      "metadata": {
        "id": "ryszPfNKv96O"
      },
      "source": [
        "### Make the directory to store the data"
      ]
    },
    {
      "cell_type": "code",
      "metadata": {
        "id": "-wKVnW9Gs1G9"
      },
      "source": [
        "!mkdir -p DataSets/house_price_data"
      ],
      "execution_count": 11,
      "outputs": []
    },
    {
      "cell_type": "markdown",
      "metadata": {
        "id": "xRM23CvhtJV-"
      },
      "source": [
        "### Download the Kaggle API token\n",
        "\n",
        "* Go to “Account”, go down the page, and find the “API” section.\n",
        "* Click the “Create New API Token” button.\n",
        "* The “kaggle.json” file will be downloaded.\n",
        "* Use the code below to upload the kaggle.json file to your google drive root"
      ]
    },
    {
      "cell_type": "code",
      "metadata": {
        "id": "3Fc_W1fmtzf-"
      },
      "source": [
        "from google.colab import files\n",
        "files.upload() #upload kaggle.json"
      ],
      "execution_count": null,
      "outputs": []
    },
    {
      "cell_type": "markdown",
      "metadata": {
        "id": "YAFk5oC5wLIe"
      },
      "source": [
        "### Move the kaggle.json to a subdirectory\n",
        "\n",
        "We move it into the same directory as our data folder. It helps to remove the clutter"
      ]
    },
    {
      "cell_type": "code",
      "metadata": {
        "id": "CkPxKXwzt5r-"
      },
      "source": [
        "!mv kaggle.json DataSets/house_price_data/"
      ],
      "execution_count": 14,
      "outputs": []
    },
    {
      "cell_type": "markdown",
      "metadata": {
        "id": "MMXRo-bzwXDA"
      },
      "source": [
        "### Tell Kaggle where to find the kaggle.json file"
      ]
    },
    {
      "cell_type": "code",
      "metadata": {
        "id": "b1iK3j4auDq_"
      },
      "source": [
        "import os\n",
        "os.environ['KAGGLE_CONFIG_DIR'] = \"/content/gdrive/MyDrive/DataSets/house_price_data/\""
      ],
      "execution_count": 15,
      "outputs": []
    },
    {
      "cell_type": "markdown",
      "metadata": {
        "id": "APnh2oZ3wfaw"
      },
      "source": [
        "### Make sure the Kaggle API is the latest version"
      ]
    },
    {
      "cell_type": "code",
      "metadata": {
        "id": "108bVtyzuL1O",
        "outputId": "faf68f24-8992-4b54-cfa5-1e0e67786d3f",
        "colab": {
          "base_uri": "https://localhost:8080/"
        }
      },
      "source": [
        "!pip install kaggle\n",
        "!pip install --upgrade --force-reinstall --no-deps kaggle"
      ],
      "execution_count": 28,
      "outputs": [
        {
          "output_type": "stream",
          "name": "stdout",
          "text": [
            "Requirement already satisfied: kaggle in /usr/local/lib/python3.7/dist-packages (1.5.12)\n",
            "Requirement already satisfied: urllib3 in /usr/local/lib/python3.7/dist-packages (from kaggle) (1.24.3)\n",
            "Requirement already satisfied: requests in /usr/local/lib/python3.7/dist-packages (from kaggle) (2.23.0)\n",
            "Requirement already satisfied: python-dateutil in /usr/local/lib/python3.7/dist-packages (from kaggle) (2.8.2)\n",
            "Requirement already satisfied: python-slugify in /usr/local/lib/python3.7/dist-packages (from kaggle) (5.0.2)\n",
            "Requirement already satisfied: six>=1.10 in /usr/local/lib/python3.7/dist-packages (from kaggle) (1.15.0)\n",
            "Requirement already satisfied: tqdm in /usr/local/lib/python3.7/dist-packages (from kaggle) (4.62.3)\n",
            "Requirement already satisfied: certifi in /usr/local/lib/python3.7/dist-packages (from kaggle) (2021.5.30)\n",
            "Requirement already satisfied: text-unidecode>=1.3 in /usr/local/lib/python3.7/dist-packages (from python-slugify->kaggle) (1.3)\n",
            "Requirement already satisfied: chardet<4,>=3.0.2 in /usr/local/lib/python3.7/dist-packages (from requests->kaggle) (3.0.4)\n",
            "Requirement already satisfied: idna<3,>=2.5 in /usr/local/lib/python3.7/dist-packages (from requests->kaggle) (2.10)\n",
            "Collecting kaggle\n",
            "  Using cached kaggle-1.5.12-py3-none-any.whl\n",
            "Installing collected packages: kaggle\n",
            "  Attempting uninstall: kaggle\n",
            "    Found existing installation: kaggle 1.5.12\n",
            "    Uninstalling kaggle-1.5.12:\n",
            "      Successfully uninstalled kaggle-1.5.12\n",
            "Successfully installed kaggle-1.5.12\n"
          ]
        }
      ]
    },
    {
      "cell_type": "markdown",
      "metadata": {
        "id": "MgGD2ugownit"
      },
      "source": [
        "### Use Kaggle API to download the dataset"
      ]
    },
    {
      "cell_type": "code",
      "metadata": {
        "id": "JsBqYEa_uSq_",
        "outputId": "8a8f014b-5140-4bfe-dd09-30c480aa5c6f",
        "colab": {
          "base_uri": "https://localhost:8080/"
        }
      },
      "source": [
        "%cd /content/gdrive/MyDrive/DataSets/house_price_data/\n",
        "!kaggle competitions download -c house-prices-advanced-regression-techniques"
      ],
      "execution_count": 23,
      "outputs": [
        {
          "output_type": "stream",
          "name": "stdout",
          "text": [
            "/content/gdrive/MyDrive/DataSets/house_price_data\n",
            "Downloading house-prices-advanced-regression-techniques.zip to /content/gdrive/MyDrive/DataSets/house_price_data\n",
            "  0% 0.00/199k [00:00<?, ?B/s]\n",
            "100% 199k/199k [00:00<00:00, 8.74MB/s]\n"
          ]
        }
      ]
    },
    {
      "cell_type": "markdown",
      "metadata": {
        "id": "xI1mk-XTwrWP"
      },
      "source": [
        "### Browse the downloaded file"
      ]
    },
    {
      "cell_type": "code",
      "metadata": {
        "id": "1W3RAxoKvVKe",
        "outputId": "2f113a91-ead6-4ada-f058-64ff043dd69b",
        "colab": {
          "base_uri": "https://localhost:8080/"
        }
      },
      "source": [
        "!ls"
      ],
      "execution_count": 25,
      "outputs": [
        {
          "output_type": "stream",
          "name": "stdout",
          "text": [
            "house-prices-advanced-regression-techniques.zip  kaggle.json\n"
          ]
        }
      ]
    },
    {
      "cell_type": "markdown",
      "metadata": {
        "id": "7lJyxizhwxNu"
      },
      "source": [
        "### Unzip the downloaded file to current directory"
      ]
    },
    {
      "cell_type": "code",
      "metadata": {
        "id": "O-9evJzIvkCe"
      },
      "source": [
        "!unzip -q house-prices-advanced-regression-techniques.zip -d ."
      ],
      "execution_count": 26,
      "outputs": []
    },
    {
      "cell_type": "code",
      "metadata": {
        "id": "pS1k9VvjvnhB",
        "outputId": "c9d2b8eb-6916-4d7c-c81d-be38a2f26022",
        "colab": {
          "base_uri": "https://localhost:8080/"
        }
      },
      "source": [
        "!ls"
      ],
      "execution_count": 27,
      "outputs": [
        {
          "output_type": "stream",
          "name": "stdout",
          "text": [
            "data_description.txt\t\t\t\t sample_submission.csv\n",
            "house-prices-advanced-regression-techniques.zip  test.csv\n",
            "kaggle.json\t\t\t\t\t train.csv\n"
          ]
        }
      ]
    }
  ]
}