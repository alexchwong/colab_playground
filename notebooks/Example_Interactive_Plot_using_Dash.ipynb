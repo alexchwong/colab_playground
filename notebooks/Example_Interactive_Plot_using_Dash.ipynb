{
  "nbformat": 4,
  "nbformat_minor": 0,
  "metadata": {
    "colab": {
      "name": "Example Interactive Plot using Dash.ipynb",
      "provenance": [],
      "collapsed_sections": [],
      "authorship_tag": "ABX9TyNQC6tXOUHf9pEEWh2a2Lsl",
      "include_colab_link": true
    },
    "kernelspec": {
      "name": "python3",
      "display_name": "Python 3"
    },
    "language_info": {
      "name": "python"
    }
  },
  "cells": [
    {
      "cell_type": "markdown",
      "metadata": {
        "id": "view-in-github",
        "colab_type": "text"
      },
      "source": [
        "<a href=\"https://colab.research.google.com/github/alexchwong/colab_playground/blob/main/notebooks/Example_Interactive_Plot_using_Dash.ipynb\" target=\"_parent\"><img src=\"https://colab.research.google.com/assets/colab-badge.svg\" alt=\"Open In Colab\"/></a>"
      ]
    },
    {
      "cell_type": "code",
      "metadata": {
        "id": "QCmMJHZFb4rX"
      },
      "source": [
        "!pip install --q dash==2.0.0 jupyter-dash==0.4.0;"
      ],
      "execution_count": 5,
      "outputs": []
    },
    {
      "cell_type": "code",
      "metadata": {
        "colab": {
          "base_uri": "https://localhost:8080/",
          "height": 921
        },
        "id": "OeKVxiCKZ0vp",
        "outputId": "c34bff00-5596-4532-d141-085a5a260bf5"
      },
      "source": [
        "from jupyter_dash import JupyterDash\n",
        "import dash\n",
        "\n",
        "from dash import dcc\n",
        "from dash import html\n",
        "from dash.dependencies import Input, Output\n",
        "import plotly.express as px\n",
        "\n",
        "df = px.data.iris()\n",
        "all_dims = ['sepal_length', 'sepal_width', \n",
        "            'petal_length', 'petal_width']\n",
        "\n",
        "app = JupyterDash(__name__)\n",
        "\n",
        "app.layout = html.Div([\n",
        "    dcc.Dropdown(\n",
        "        id=\"dropdown\",\n",
        "        options=[{\"label\": x, \"value\": x} \n",
        "                 for x in all_dims],\n",
        "        value=all_dims[:2],\n",
        "        multi=True\n",
        "    ),\n",
        "    dcc.Graph(id=\"splom\"),\n",
        "])\n",
        "\n",
        "@app.callback(\n",
        "    Output(\"splom\", \"figure\"), \n",
        "    [Input(\"dropdown\", \"value\")])\n",
        "def update_bar_chart(dims):\n",
        "    fig = px.scatter_matrix(\n",
        "        df, dimensions=dims, color=\"species\")\n",
        "    return fig\n",
        "\n",
        "\n",
        "if __name__ == \"__main__\":\n",
        "    app.run_server(debug=True, mode='inline', width=1200, height = 900)"
      ],
      "execution_count": 7,
      "outputs": [
        {
          "output_type": "display_data",
          "data": {
            "application/javascript": [
              "(async (port, path, width, height, cache, element) => {\n",
              "    if (!google.colab.kernel.accessAllowed && !cache) {\n",
              "      return;\n",
              "    }\n",
              "    element.appendChild(document.createTextNode(''));\n",
              "    const url = await google.colab.kernel.proxyPort(port, {cache});\n",
              "    const iframe = document.createElement('iframe');\n",
              "    iframe.src = new URL(path, url).toString();\n",
              "    iframe.height = height;\n",
              "    iframe.width = width;\n",
              "    iframe.style.border = 0;\n",
              "    element.appendChild(iframe);\n",
              "  })(8050, \"/\", 1200, 900, false, window.element)"
            ],
            "text/plain": [
              "<IPython.core.display.Javascript object>"
            ]
          },
          "metadata": {}
        }
      ]
    }
  ]
}